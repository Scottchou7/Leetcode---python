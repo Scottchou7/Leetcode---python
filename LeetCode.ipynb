{
 "cells": [
  {
   "cell_type": "markdown",
   "metadata": {},
   "source": [
    "# 金字塔"
   ]
  },
  {
   "cell_type": "code",
   "execution_count": 4,
   "metadata": {
    "scrolled": true
   },
   "outputs": [
    {
     "name": "stdout",
     "output_type": "stream",
     "text": [
      "請輸入高度(1~30):50\n",
      "                                                  *\n",
      "                                                 ***\n",
      "                                                *****\n",
      "                                               *******\n",
      "                                              *********\n",
      "                                             ***********\n",
      "                                            *************\n",
      "                                           ***************\n",
      "                                          *****************\n",
      "                                         *******************\n",
      "                                        *********************\n",
      "                                       ***********************\n",
      "                                      *************************\n",
      "                                     ***************************\n",
      "                                    *****************************\n",
      "                                   *******************************\n",
      "                                  *********************************\n",
      "                                 ***********************************\n",
      "                                *************************************\n",
      "                               ***************************************\n",
      "                              *****************************************\n",
      "                             *******************************************\n",
      "                            *********************************************\n",
      "                           ***********************************************\n",
      "                          *************************************************\n",
      "                         ***************************************************\n",
      "                        *****************************************************\n",
      "                       *******************************************************\n",
      "                      *********************************************************\n",
      "                     ***********************************************************\n",
      "                    *************************************************************\n",
      "                   ***************************************************************\n",
      "                  *****************************************************************\n",
      "                 *******************************************************************\n",
      "                *********************************************************************\n",
      "               ***********************************************************************\n",
      "              *************************************************************************\n",
      "             ***************************************************************************\n",
      "            *****************************************************************************\n",
      "           *******************************************************************************\n",
      "          *********************************************************************************\n",
      "         ***********************************************************************************\n",
      "        *************************************************************************************\n",
      "       ***************************************************************************************\n",
      "      *****************************************************************************************\n",
      "     *******************************************************************************************\n",
      "    *********************************************************************************************\n",
      "   ***********************************************************************************************\n",
      "  *************************************************************************************************\n",
      " ***************************************************************************************************\n"
     ]
    }
   ],
   "source": [
    "n = eval(input(\"請輸入高度(1~30):\"))\n",
    "\n",
    "for i in range(1, n+1):\n",
    "    print(\" \" * (n-i),\"*\" * (2*i-1))"
   ]
  },
  {
   "cell_type": "markdown",
   "metadata": {},
   "source": [
    "# 使用List做為迭代物件，計算List裡的字串總和"
   ]
  },
  {
   "cell_type": "code",
   "execution_count": 2,
   "metadata": {},
   "outputs": [
    {
     "name": "stdout",
     "output_type": "stream",
     "text": [
      "總和: 1\n",
      "總和: 3\n",
      "總和: 6\n",
      "總和: 10\n",
      "總和: 15\n"
     ]
    }
   ],
   "source": [
    "list1=[1,2,3,4,5]\n",
    "summ=0\n",
    "for i in list1:\n",
    "    summ+=i\n",
    "    print(\"總和:\",summ)"
   ]
  },
  {
   "cell_type": "markdown",
   "metadata": {},
   "source": [
    "# [計算階乘] ex: n=5, result = 5*4*3*2*1"
   ]
  },
  {
   "cell_type": "code",
   "execution_count": 3,
   "metadata": {},
   "outputs": [
    {
     "name": "stdout",
     "output_type": "stream",
     "text": [
      "請輸入1~100的正整數:10\n",
      "3628800\n"
     ]
    }
   ],
   "source": [
    "n = eval(input(\"請輸入1~100的正整數:\"))\n",
    "\n",
    "result = 1\n",
    "\n",
    "for i in range(1, n+1):\n",
    "    result = result*i\n",
    "print(result)"
   ]
  },
  {
   "cell_type": "code",
   "execution_count": 8,
   "metadata": {},
   "outputs": [
    {
     "name": "stdout",
     "output_type": "stream",
     "text": [
      "請輸入1~100的正整數:10\n",
      "3628800\n"
     ]
    }
   ],
   "source": [
    "n = eval(input(\"請輸入1~100的正整數:\"))\n",
    "\n",
    "result = 1\n",
    "i=1\n",
    "\n",
    "while i<=n:\n",
    "    result *= i\n",
    "    i+=1\n",
    "print(result)"
   ]
  },
  {
   "cell_type": "markdown",
   "metadata": {},
   "source": [
    "# 終極密碼 猜數字(1~100)"
   ]
  },
  {
   "cell_type": "code",
   "execution_count": 16,
   "metadata": {},
   "outputs": [
    {
     "name": "stdout",
     "output_type": "stream",
     "text": [
      "猜數字1-100:20\n",
      "答案比20大\n",
      "猜數字1-100:70\n",
      "答案比70小\n",
      "猜數字1-100:50\n",
      "答案比50大\n",
      "猜數字1-100:60\n",
      "答案比60小\n",
      "猜數字1-100:53\n",
      "答案比53小\n",
      "猜數字1-100:51\n",
      "答案比51大\n",
      "猜數字1-100:52\n",
      "猜對了!!!\n"
     ]
    }
   ],
   "source": [
    "import random\n",
    "\n",
    "num = random.randint(1, 100)\n",
    "\n",
    "answer = -1\n",
    "\n",
    "while answer!=num:\n",
    "    answer = eval(input(\"猜數字1-100:\"))\n",
    "    \n",
    "    if answer>num:\n",
    "        print(\"答案比%d小\" %(answer))\n",
    "        \n",
    "    elif answer<num:\n",
    "        print(\"答案比%d大\" %(answer))\n",
    "        \n",
    "    else:\n",
    "        print(\"猜對了!!!\")"
   ]
  },
  {
   "cell_type": "markdown",
   "metadata": {},
   "source": [
    "# 泡泡排序法"
   ]
  },
  {
   "cell_type": "code",
   "execution_count": 1,
   "metadata": {},
   "outputs": [
    {
     "name": "stdout",
     "output_type": "stream",
     "text": [
      "[2, 6, 21, 23, 31, 42]\n"
     ]
    }
   ],
   "source": [
    "# 給一組數列用冒泡排序法，把數列內部的數字進行排序，輸出最大的數\n",
    "# 定義一組數列\n",
    "list = [2,31,42,21,6,23]\n",
    "# 取出數列的下標\n",
    "for i in range(len(list)):\n",
    "    # 二次取出數列的下標\n",
    "    for j in range(len(list)):\n",
    "        # 判斷第一次取出下標的值和第二次取出下標的值得大小\n",
    "        if list[j] > list[i]:\n",
    "            # 如果第二個數大於第一個數，把第二個數放在第一個數後面\n",
    "            list[j], list[i] = list[i], list[j]\n",
    "print(list)"
   ]
  },
  {
   "cell_type": "code",
   "execution_count": 2,
   "metadata": {},
   "outputs": [
    {
     "name": "stdout",
     "output_type": "stream",
     "text": [
      "[42, 31, 23, 21, 6, 2]\n"
     ]
    }
   ],
   "source": [
    "# 給一組數列用冒泡排序法，把數列內部的數字進行排序，輸出最大的數\n",
    "# 定義一組數列\n",
    "list = [2,31,42,21,6,23]\n",
    "# 取出數列的下標\n",
    "for i in range(len(list)):\n",
    "    # 二次取出數列的下標\n",
    "    for j in range(len(list)):\n",
    "        # 判斷第一次取出下標的值和第二次取出下標的值得大小\n",
    "        if list[j] < list[i]:\n",
    "            # 如果第二個數大於第一個數，把第二個數放在第一個數後面\n",
    "            list[j], list[i] = list[i], list[j]\n",
    "print(list)"
   ]
  },
  {
   "cell_type": "markdown",
   "metadata": {},
   "source": [
    "# LeetCode"
   ]
  },
  {
   "cell_type": "markdown",
   "metadata": {},
   "source": [
    "# 1. Two Sum"
   ]
  },
  {
   "cell_type": "code",
   "execution_count": 1,
   "metadata": {},
   "outputs": [
    {
     "data": {
      "text/html": [
       "<img src=\"leetcode picture/1.jpg\", width=531,height=291>\n"
      ],
      "text/plain": [
       "<IPython.core.display.HTML object>"
      ]
     },
     "metadata": {},
     "output_type": "display_data"
    }
   ],
   "source": [
    "%%html\n",
    "<img src=\"leetcode picture/1.jpg\", width=531,height=291>"
   ]
  },
  {
   "cell_type": "code",
   "execution_count": 1,
   "metadata": {},
   "outputs": [],
   "source": [
    "class Solution:\n",
    "    def twoSum(nums, target):\n",
    "        \"\"\"\n",
    "        :type nums: List[int]\n",
    "        :type target: int\n",
    "        :type: List[int]\n",
    "        \"\"\"\n",
    "        \n",
    "        dict = {}\n",
    "        \n",
    "        for i in range(len(nums)):\n",
    "            if target - nums[i] not in dict:\n",
    "                dict[nums[i]] = i\n",
    "            else:\n",
    "                return [dict[target-nums[i]], i]"
   ]
  },
  {
   "cell_type": "code",
   "execution_count": 2,
   "metadata": {},
   "outputs": [
    {
     "data": {
      "text/plain": [
       "[0, 1]"
      ]
     },
     "execution_count": 2,
     "metadata": {},
     "output_type": "execute_result"
    }
   ],
   "source": [
    "nums = [2, 7, 11, 15]\n",
    "target = 9\n",
    "\n",
    "Solution.twoSum(nums, target)"
   ]
  },
  {
   "cell_type": "code",
   "execution_count": 13,
   "metadata": {},
   "outputs": [
    {
     "name": "stdout",
     "output_type": "stream",
     "text": [
      "[0, 1]\n"
     ]
    }
   ],
   "source": [
    "#自己寫的，爆破法\n",
    "nums = [2, 7, 11, 15]\n",
    "target = 9\n",
    "\n",
    "for i, number_i  in enumerate(nums):\n",
    "    for j, number_j  in enumerate(nums):\n",
    "        if number_i + number_j == target and i != j and i<j:\n",
    "            print([i, j])"
   ]
  },
  {
   "cell_type": "markdown",
   "metadata": {},
   "source": [
    "# 7. Reverse Integer"
   ]
  },
  {
   "cell_type": "code",
   "execution_count": 1,
   "metadata": {},
   "outputs": [
    {
     "data": {
      "text/html": [
       "<img src=\"leetcode picture/7.jpg\", width=531,height=291>\n"
      ],
      "text/plain": [
       "<IPython.core.display.HTML object>"
      ]
     },
     "metadata": {},
     "output_type": "display_data"
    }
   ],
   "source": [
    "%%html\n",
    "<img src=\"leetcode picture/7.jpg\", width=531,height=291>"
   ]
  },
  {
   "cell_type": "code",
   "execution_count": 2,
   "metadata": {},
   "outputs": [],
   "source": [
    "class Solution:\n",
    "    def reverse(x):\n",
    "        \"\"\"\n",
    "        :type x: int \n",
    "        :type: int\n",
    "        \"\"\"\n",
    "        \n",
    "        num = 0\n",
    "        \n",
    "        a = abs(x)\n",
    "        while(a != 0):\n",
    "            temp = a %10\n",
    "            num = num * 10 + temp\n",
    "            a = a//10\n",
    "            #print('a', a)\n",
    "            \n",
    "        if x > 0 and num < 2147483647:\n",
    "            return num\n",
    "        elif x < 0 and num >=  -2147483647:\n",
    "            return -num\n",
    "        else:\n",
    "            return 0"
   ]
  },
  {
   "cell_type": "code",
   "execution_count": 3,
   "metadata": {},
   "outputs": [
    {
     "data": {
      "text/plain": [
       "-321"
      ]
     },
     "execution_count": 3,
     "metadata": {},
     "output_type": "execute_result"
    }
   ],
   "source": [
    "x = -123\n",
    "Solution.reverse(x)"
   ]
  },
  {
   "cell_type": "code",
   "execution_count": 1,
   "metadata": {},
   "outputs": [
    {
     "name": "stdout",
     "output_type": "stream",
     "text": [
      "654\n"
     ]
    }
   ],
   "source": [
    "# 自己寫的\n",
    "x = 456\n",
    "abs_x = abs(x)  #先把輸入取絕對值\n",
    "dict = {}       #創建Hash表，之後要倒著依序把數字填入表中\n",
    "counter = 0     #計算器，計算填了幾次數字至表中\n",
    "result = 0      #用來儲存結果\n",
    "\n",
    "while(abs_x //10 != 0):        # 當abs_x 除以 10 的商不為0時，進入迴圈\n",
    "    num = abs_x % 10           # num 為 abs_x 除以 10的餘數， ex:123%10 = 3\n",
    "    abs_x = abs_x //10         # 將 abs_x 更新為 abs_x 除以 10 的商\n",
    "    dict[counter] = num        # 將 第 counter 次的 num(餘數) 存進 Hash表中 ， ex:最後表長這樣[0:6, 1:5]\n",
    "    #print(num, abs_x)         #查看每一次的 num 及 abs_x\n",
    "    counter += 1               #更新counter\n",
    "    \n",
    "    \n",
    "dict[counter] = abs_x          #因為每次更新 num(餘數) 至 Hash表，最後一個數字會沒存到\n",
    "                               #，所以把最後一次的 abs_x 除以 10 的商存進表中 ，ex:最後表長這樣[0:6, 1:5, 2:4]\n",
    "\n",
    "if x > 0 and num < (2**31)-1:              #如果原始 x 大於0 ，且小於(2**31)-1\n",
    "    for i in range(len(dict)):             \n",
    "        result = result * 10 + dict[i]     #將Hash表的結果依序放出來\n",
    "        \n",
    "elif x < 0 and num >=  -(2**31):           #如果原始 x 小於0 ，且大於-(2**31)-1\n",
    "    for i in range(len(dict)):\n",
    "        result = result * 10 + dict[i]\n",
    "    result = -result                       #將Hash表的結果依序放出來\n",
    "\n",
    "else:\n",
    "    result = 0\n",
    "        \n",
    "print(result)"
   ]
  },
  {
   "cell_type": "markdown",
   "metadata": {},
   "source": [
    "# 9. Palindrome Number"
   ]
  },
  {
   "cell_type": "code",
   "execution_count": 1,
   "metadata": {},
   "outputs": [
    {
     "data": {
      "text/html": [
       "<img src=\"leetcode picture/9.jpg\", width=531,height=291>\n"
      ],
      "text/plain": [
       "<IPython.core.display.HTML object>"
      ]
     },
     "metadata": {},
     "output_type": "display_data"
    }
   ],
   "source": [
    "%%html\n",
    "<img src=\"leetcode picture/9.jpg\", width=531,height=291>"
   ]
  },
  {
   "cell_type": "code",
   "execution_count": 1,
   "metadata": {},
   "outputs": [],
   "source": [
    "class Solution(object):\n",
    "    def isPalindrome(x):\n",
    "        \"\"\"\n",
    "        :type x: int\n",
    "        :rtype: bool\n",
    "        \"\"\"\n",
    "        \n",
    "        num = 0 \n",
    "        a = abs(x)\n",
    "        \n",
    "        while (a != 0):\n",
    "            temp = a % 10\n",
    "            num = num * 10 +temp\n",
    "            a = a // 10\n",
    "        \n",
    "        if x >= 0 and x == num:\n",
    "            return True\n",
    "        else:\n",
    "            return False"
   ]
  },
  {
   "cell_type": "code",
   "execution_count": 2,
   "metadata": {},
   "outputs": [
    {
     "data": {
      "text/plain": [
       "True"
      ]
     },
     "execution_count": 2,
     "metadata": {},
     "output_type": "execute_result"
    }
   ],
   "source": [
    "x = 121\n",
    "Solution.isPalindrome(x)"
   ]
  },
  {
   "cell_type": "code",
   "execution_count": 36,
   "metadata": {},
   "outputs": [
    {
     "name": "stdout",
     "output_type": "stream",
     "text": [
      "True\n"
     ]
    }
   ],
   "source": [
    "# 自己寫的\n",
    "x = 951159\n",
    "\n",
    "if x <=0:           #負數不可能符合題意，只要是負數就為False\n",
    "    print (False)\n",
    "    \n",
    "else:\n",
    "    abs_x = abs(x)  #先把輸入取絕對值\n",
    "    dict = {}       #創建Hash表，之後要倒著依序把數字填入表中\n",
    "    counter = 0\n",
    "    \n",
    "    while(abs_x //10 != 0):        # 當abs_x 除以 10 的商不為0時，進入迴圈\n",
    "        num = abs_x % 10           # num 為 abs_x 除以 10的餘數， ex:123%10 = 3\n",
    "        abs_x = abs_x //10         # 將 abs_x 更新為 abs_x 除以 10 的商\n",
    "        dict[counter] = num        # 將 第 counter 次的 num(餘數) 存進 Hash表中 ， ex:最後表長這樣[0:6, 1:5]\n",
    "        #print(num, abs_x)         #查看每一次的 num 及 abs_x\n",
    "        counter += 1               #更新counter\n",
    "    \n",
    "    dict[counter] = abs_x          #因為每次更新 num(餘數) 至 Hash表，最後一個數字會沒存到\n",
    "                                   #，所以把最後一次的 abs_x 除以 10 的商存進表中 ，ex:最後表長這樣[0:6, 1:5, 2:4]\n",
    "    \n",
    "    result_boolTable = [False] * len(dict)    #創建一個Bool List，預設為False，長度為 len(dict)， ex: [False,False,False]\n",
    "    \n",
    "    for i in range(len(dict)):                #一個一個檢查 dict 表裡的值\n",
    "        if dict[i] == dict[len(dict)-1-i]:    #若 dict 中第 i 和第 len(dict)-1-i 個值相同，更新第 i 個 Bool List為 True\n",
    "            result_boolTable[i] = True\n",
    "    \n",
    "    print(all(result_boolTable))              #使用all()，只要list有一個False， all得結果就為False\n",
    "                                              #ex: 若 result = [True, True, True]， all(result) --> True\n",
    "                                                  #若 result = [False, True, True]， all(result) --> False\n",
    "                                                  #若 result = [True, False, True]， all(result) --> False\n",
    "                                                  #若 result = [True, True, False]， all(result) --> False\n",
    "                                                  #若 result = [False, False, False]， all(result) --> False"
   ]
  },
  {
   "cell_type": "markdown",
   "metadata": {},
   "source": [
    "# 13. Roman to Integer"
   ]
  },
  {
   "cell_type": "code",
   "execution_count": 1,
   "metadata": {},
   "outputs": [
    {
     "data": {
      "text/html": [
       "<img src=\"leetcode picture/13_1.jpg\", width=531,height=291>\n"
      ],
      "text/plain": [
       "<IPython.core.display.HTML object>"
      ]
     },
     "metadata": {},
     "output_type": "display_data"
    }
   ],
   "source": [
    "%%html\n",
    "<img src=\"leetcode picture/13_1.jpg\", width=531,height=291>"
   ]
  },
  {
   "cell_type": "code",
   "execution_count": 2,
   "metadata": {},
   "outputs": [
    {
     "data": {
      "text/html": [
       "<img src=\"leetcode picture/13_2.jpg\", width=531,height=291>\n"
      ],
      "text/plain": [
       "<IPython.core.display.HTML object>"
      ]
     },
     "metadata": {},
     "output_type": "display_data"
    }
   ],
   "source": [
    "%%html\n",
    "<img src=\"leetcode picture/13_2.jpg\", width=531,height=291>"
   ]
  },
  {
   "cell_type": "code",
   "execution_count": 1,
   "metadata": {},
   "outputs": [],
   "source": [
    "class Solution:\n",
    "    def romanToInt(s):\n",
    "        \"\"\"\n",
    "        :type s:str\n",
    "        :rtype: int\n",
    "        \"\"\"\n",
    "        numeral_map = {\"I\":1, \"V\":5, \"X\":10, \"L\":50, \"C\":100, \"D\": 500, \"M\": 1000}\n",
    "        result = 0\n",
    "        \n",
    "        for i in range(len(s)):\n",
    "            if numeral_map[s[i]] > numeral_map[s[i-1]] and i > 0:\n",
    "                result += numeral_map[s[i]] - 2 * numeral_map[s[i-1]]\n",
    "            else:\n",
    "                result += numeral_map[s[i]]\n",
    "                \n",
    "        return result"
   ]
  },
  {
   "cell_type": "code",
   "execution_count": 2,
   "metadata": {},
   "outputs": [
    {
     "data": {
      "text/plain": [
       "1994"
      ]
     },
     "execution_count": 2,
     "metadata": {},
     "output_type": "execute_result"
    }
   ],
   "source": [
    "s = \"MCMXCIV\"\n",
    "Solution.romanToInt(s)"
   ]
  },
  {
   "cell_type": "code",
   "execution_count": 4,
   "metadata": {},
   "outputs": [
    {
     "data": {
      "text/html": [
       "<img src=\"leetcode picture/13_answer.jpg\", width=531,height=291>\n"
      ],
      "text/plain": [
       "<IPython.core.display.HTML object>"
      ]
     },
     "metadata": {},
     "output_type": "display_data"
    }
   ],
   "source": [
    "%%html\n",
    "<img src=\"leetcode picture/13_answer.jpg\", width=531,height=291>"
   ]
  },
  {
   "cell_type": "markdown",
   "metadata": {},
   "source": [
    "# 14. Longest Common Prefix"
   ]
  },
  {
   "cell_type": "code",
   "execution_count": 1,
   "metadata": {},
   "outputs": [
    {
     "data": {
      "text/html": [
       "<img src=\"leetcode picture/14.jpg\", width=531,height=291>\n"
      ],
      "text/plain": [
       "<IPython.core.display.HTML object>"
      ]
     },
     "metadata": {},
     "output_type": "display_data"
    }
   ],
   "source": [
    "%%html\n",
    "<img src=\"leetcode picture/14.jpg\", width=531,height=291>"
   ]
  },
  {
   "cell_type": "code",
   "execution_count": 1,
   "metadata": {},
   "outputs": [],
   "source": [
    "class Solution(object):\n",
    "    def longestCommonPrefix(strs):\n",
    "        \"\"\"\n",
    "        :type strs: List[str]\n",
    "        :rtype: str\n",
    "        \"\"\"\n",
    "        \n",
    "        result = \"\"\n",
    "        i = 0\n",
    "        \n",
    "        while True:\n",
    "            try:\n",
    "                sets = set(string[i] for string in strs)\n",
    "                #print('set', sets)\n",
    "                if len(sets) == 1:\n",
    "                    result += sets.pop()\n",
    "                    i+=1\n",
    "                else: break\n",
    "            except Exception as e:\n",
    "                break\n",
    "                \n",
    "        return result"
   ]
  },
  {
   "cell_type": "code",
   "execution_count": 2,
   "metadata": {},
   "outputs": [],
   "source": [
    "#其他方法，(還不太懂)\n",
    "class Solution(object):\n",
    "    def longestCommonPrefix(strs):\n",
    "        \"\"\"\n",
    "        :type strs: List[str]\n",
    "        :rtype: str\n",
    "        \"\"\"\n",
    "\n",
    "        if not strs:\n",
    "            return \"\"\n",
    "\n",
    "        for i in range(len(strs[0])):\n",
    "            for string in strs[1:]:\n",
    "                if  i >= len(string) or string[i] != strs[0][i]:\n",
    "                    return strs[0][:i]"
   ]
  },
  {
   "cell_type": "code",
   "execution_count": 2,
   "metadata": {},
   "outputs": [
    {
     "data": {
      "text/plain": [
       "'fl'"
      ]
     },
     "execution_count": 2,
     "metadata": {},
     "output_type": "execute_result"
    }
   ],
   "source": [
    "strs = [\"flower\",\"flow\",\"flight\"]\n",
    "\n",
    "Solution.longestCommonPrefix(strs)"
   ]
  },
  {
   "cell_type": "markdown",
   "metadata": {},
   "source": [
    "# 20. Valid Parentheses"
   ]
  },
  {
   "cell_type": "code",
   "execution_count": 3,
   "metadata": {},
   "outputs": [
    {
     "data": {
      "text/html": [
       "<img src=\"leetcode picture/20.jpg\", width=531,height=291>\n"
      ],
      "text/plain": [
       "<IPython.core.display.HTML object>"
      ]
     },
     "metadata": {},
     "output_type": "display_data"
    }
   ],
   "source": [
    "%%html\n",
    "<img src=\"leetcode picture/20.jpg\", width=531,height=291>"
   ]
  },
  {
   "cell_type": "code",
   "execution_count": 1,
   "metadata": {},
   "outputs": [],
   "source": [
    "class Solution(object):\n",
    "    def isValid(s):\n",
    "        \"\"\"\n",
    "        :type s: str\n",
    "        :rtype: bool\n",
    "        \"\"\"\n",
    "        stack = []\n",
    "        lookup = {\"(\" : \")\", \"{\" : \"}\", \"[\" : \"]\"}\n",
    "        \n",
    "        for parenthese in s:\n",
    "            if parenthese in lookup:\n",
    "                stack.append(parenthese)\n",
    "            elif len(stack) == 0 or lookup[stack.pop()] != parenthese:\n",
    "                return False\n",
    "            \n",
    "        return len(stack) == 0"
   ]
  },
  {
   "cell_type": "code",
   "execution_count": 2,
   "metadata": {},
   "outputs": [
    {
     "data": {
      "text/plain": [
       "True"
      ]
     },
     "execution_count": 2,
     "metadata": {},
     "output_type": "execute_result"
    }
   ],
   "source": [
    "s = \"()\"\n",
    "\n",
    "Solution.isValid(s)"
   ]
  },
  {
   "cell_type": "markdown",
   "metadata": {},
   "source": [
    "# 21. Merge Two Sorted Lists"
   ]
  },
  {
   "cell_type": "code",
   "execution_count": 1,
   "metadata": {},
   "outputs": [
    {
     "data": {
      "text/html": [
       "<img src=\"leetcode picture/21.jpg\", width=531,height=291>\n"
      ],
      "text/plain": [
       "<IPython.core.display.HTML object>"
      ]
     },
     "metadata": {},
     "output_type": "display_data"
    }
   ],
   "source": [
    "%%html\n",
    "<img src=\"leetcode picture/21.jpg\", width=531,height=291>"
   ]
  },
  {
   "cell_type": "code",
   "execution_count": 1,
   "metadata": {},
   "outputs": [],
   "source": [
    "# Definition for singly-linked list.\n",
    "# class ListNode(object):\n",
    "#     def __init__(self, x):\n",
    "#         self.val = x\n",
    "#         self.next = None\n",
    "\n",
    "class Solution(object):\n",
    "    def mergeTwoLists(self, l1, l2):\n",
    "        \"\"\"\n",
    "        :type l1: ListNode\n",
    "        :type l2: ListNode\n",
    "        :rtype: ListNode\n",
    "        \"\"\"\n",
    "        \n",
    "        curr = dummy = ListNode(0)\n",
    "        \n",
    "        while l1 and l2:\n",
    "            if l1.val < l2.val:\n",
    "                curr.next = l1\n",
    "                l1 = l1.next\n",
    "            else:\n",
    "                curr.next = l2\n",
    "                l2 = l2.next\n",
    "            curr = curr.next\n",
    "        curr.next = l1 or l2\n",
    "        \n",
    "        return dummy.next"
   ]
  },
  {
   "cell_type": "code",
   "execution_count": 2,
   "metadata": {},
   "outputs": [
    {
     "name": "stdout",
     "output_type": "stream",
     "text": [
      "[2, 2, 3, 4, 4, 6]\n"
     ]
    }
   ],
   "source": [
    "#自己寫，若l1和l2是List (而不是題目定義的ListNode)，先把兩個List合併成一個，再用泡泡排序法\n",
    "l1 = [4, 2, 2]\n",
    "l2 = [6, 3, 4]\n",
    "\n",
    "# 給一組數列用冒泡排序法，把數列內部的數字進行排序，輸出最大的數\n",
    "# 定義一組數列\n",
    "list = l1 + l2\n",
    "# 取出數列的下標\n",
    "for i in range(len(list)):\n",
    "    # 二次取出數列的下標\n",
    "    for j in range(len(list)):\n",
    "        # 判斷第一次取出下標的值和第二次取出下標的值得大小\n",
    "        if list[j] > list[i]:\n",
    "            # 如果第二個數大於第一個數，把第二個數放在第一個數後面\n",
    "            list[j], list[i] = list[i], list[j]\n",
    "print(list)"
   ]
  },
  {
   "cell_type": "markdown",
   "metadata": {},
   "source": [
    "# 26. Remove Duplicates from Sorted Array"
   ]
  },
  {
   "cell_type": "code",
   "execution_count": 1,
   "metadata": {},
   "outputs": [
    {
     "data": {
      "text/html": [
       "<img src=\"leetcode picture/26.jpg\", width=531,height=291>\n"
      ],
      "text/plain": [
       "<IPython.core.display.HTML object>"
      ]
     },
     "metadata": {},
     "output_type": "display_data"
    }
   ],
   "source": [
    "%%html\n",
    "<img src=\"leetcode picture/26.jpg\", width=531,height=291>"
   ]
  },
  {
   "cell_type": "code",
   "execution_count": 7,
   "metadata": {},
   "outputs": [],
   "source": [
    "class Solution(object):\n",
    "    def removeDuplicates(nums):\n",
    "        \"\"\"\n",
    "        :type nums: List[int]\n",
    "        :rtype: int\n",
    "        \"\"\"\n",
    "        if not nums:\n",
    "            return 0\n",
    "        \n",
    "        count = 0\n",
    "        \n",
    "        for i in range(len(nums)):\n",
    "            if nums[count] != nums[i]:\n",
    "                #print(\"count:\", count, \"nums[count]:\", nums[count], \"nums[i]:\", nums[i], nums)\n",
    "                count += 1\n",
    "                nums[count] = nums[i]\n",
    "                \n",
    "        return count+1"
   ]
  },
  {
   "cell_type": "code",
   "execution_count": 8,
   "metadata": {},
   "outputs": [
    {
     "name": "stdout",
     "output_type": "stream",
     "text": [
      "count: 0 nums[count]: 0 nums[i]: 1 [0, 0, 1, 1, 1, 2, 3, 4, 4]\n",
      "count: 1 nums[count]: 1 nums[i]: 2 [0, 1, 1, 1, 1, 2, 3, 4, 4]\n",
      "count: 2 nums[count]: 2 nums[i]: 3 [0, 1, 2, 1, 1, 2, 3, 4, 4]\n",
      "count: 3 nums[count]: 3 nums[i]: 4 [0, 1, 2, 3, 1, 2, 3, 4, 4]\n"
     ]
    },
    {
     "data": {
      "text/plain": [
       "5"
      ]
     },
     "execution_count": 8,
     "metadata": {},
     "output_type": "execute_result"
    }
   ],
   "source": [
    "nums = [0,0,1,1,1,2,3,4,4]\n",
    "\n",
    "Solution.removeDuplicates(nums)"
   ]
  },
  {
   "cell_type": "code",
   "execution_count": 18,
   "metadata": {},
   "outputs": [
    {
     "name": "stdout",
     "output_type": "stream",
     "text": [
      "5\n"
     ]
    }
   ],
   "source": [
    "#自己寫的，但是不符合題義 (題目說不可以創造新的 List)\n",
    "nums = [0,0,1,1,1,2,3,4,4]\n",
    "\n",
    "result = []\n",
    "\n",
    "for i in range(len(nums)):\n",
    "    if nums[i] not in nums[i+1:]:\n",
    "        result += [nums[i]]\n",
    "\n",
    "print(len(result))"
   ]
  },
  {
   "cell_type": "raw",
   "metadata": {},
   "source": [
    "# 失敗，用Delete\n",
    "nums = [0,0,1,1,1,2,3,4,4]\n",
    "\n",
    "result = []\n",
    "length = len(nums)\n",
    "\n",
    "for i in range(length):\n",
    "    if nums[i] in nums[i+1:]:\n",
    "        nums.remove(nums[i])\n",
    "        length = len(nums)\n",
    "        print(length, nums)\n",
    "\n",
    "#print(len(result))"
   ]
  },
  {
   "cell_type": "code",
   "execution_count": null,
   "metadata": {},
   "outputs": [],
   "source": [
    "nums = [0,0,1,1,1,2,3,4,4]\n",
    "\n",
    "result = []\n",
    "length = len(nums)\n",
    "\n",
    "while \n",
    "\n",
    "for i in range(length):\n",
    "    if nums[i] in nums[i+1:]:\n",
    "        nums.remove(nums[i])\n",
    "        length = len(nums)\n",
    "        print(length, nums)\n",
    "\n",
    "#print(len(result))"
   ]
  },
  {
   "cell_type": "code",
   "execution_count": null,
   "metadata": {},
   "outputs": [],
   "source": []
  },
  {
   "cell_type": "code",
   "execution_count": null,
   "metadata": {},
   "outputs": [],
   "source": []
  }
 ],
 "metadata": {
  "kernelspec": {
   "display_name": "Python 3",
   "language": "python",
   "name": "python3"
  },
  "language_info": {
   "codemirror_mode": {
    "name": "ipython",
    "version": 3
   },
   "file_extension": ".py",
   "mimetype": "text/x-python",
   "name": "python",
   "nbconvert_exporter": "python",
   "pygments_lexer": "ipython3",
   "version": "3.6.5"
  }
 },
 "nbformat": 4,
 "nbformat_minor": 2
}
